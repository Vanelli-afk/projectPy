{
 "cells": [
  {
   "cell_type": "markdown",
   "id": "bcd59963",
   "metadata": {},
   "source": [
    "# 1:"
   ]
  },
  {
   "cell_type": "code",
   "execution_count": 1,
   "id": "fbcb0ff1",
   "metadata": {},
   "outputs": [
    {
     "data": {
      "text/plain": [
       "5.206896551724138"
      ]
     },
     "execution_count": 1,
     "metadata": {},
     "output_type": "execute_result"
    }
   ],
   "source": [
    "5 * (10 - 4)**2 / (3**3 + 2) - 1"
   ]
  },
  {
   "cell_type": "markdown",
   "id": "b883fd13",
   "metadata": {},
   "source": [
    "# 2:"
   ]
  },
  {
   "cell_type": "code",
   "execution_count": 2,
   "id": "63ff3e66",
   "metadata": {},
   "outputs": [
    {
     "data": {
      "text/plain": [
       "10.0"
      ]
     },
     "execution_count": 2,
     "metadata": {},
     "output_type": "execute_result"
    }
   ],
   "source": [
    "\n",
    "((8 - 2)**2 + (11 - 3)**2)**0.5"
   ]
  },
  {
   "cell_type": "markdown",
   "id": "dafe3205",
   "metadata": {},
   "source": [
    "# 3:"
   ]
  },
  {
   "cell_type": "code",
   "execution_count": 3,
   "id": "b5529a21",
   "metadata": {},
   "outputs": [
    {
     "data": {
      "text/plain": [
       "7.55"
      ]
     },
     "execution_count": 3,
     "metadata": {},
     "output_type": "execute_result"
    }
   ],
   "source": [
    "(7 * 3 + 8.5 * 5 + 6 * 2) / (3 + 5 + 2)"
   ]
  }
 ],
 "metadata": {
  "kernelspec": {
   "display_name": "Python 3",
   "language": "python",
   "name": "python3"
  },
  "language_info": {
   "codemirror_mode": {
    "name": "ipython",
    "version": 3
   },
   "file_extension": ".py",
   "mimetype": "text/x-python",
   "name": "python",
   "nbconvert_exporter": "python",
   "pygments_lexer": "ipython3",
   "version": "3.12.1"
  }
 },
 "nbformat": 4,
 "nbformat_minor": 5
}
